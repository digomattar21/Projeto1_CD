{
 "cells": [
  {
   "cell_type": "code",
   "execution_count": 183,
   "metadata": {},
   "outputs": [],
   "source": [
    "# Projeto 1 - Ciência dos Dados"
   ]
  },
  {
   "cell_type": "markdown",
   "metadata": {},
   "source": [
    "Nome: Rodrigo Sennati Mattar"
   ]
  },
  {
   "cell_type": "markdown",
   "metadata": {},
   "source": [
    "## Pergunta (s) a ser respondida"
   ]
  },
  {
   "cell_type": "markdown",
   "metadata": {},
   "source": [
    "Pergunta1: \n",
    "Os países membros do Mercosul tiveram um crescimento maior de seu IDH quando comparados a não membros?\n",
    "\n",
    "Pergunta2:\n",
    "Os países membros do Mercosul tiveram um crescimento maior de sua balança comercial quando comparados a não membros?\n",
    "\n",
    "Pergunta 3\n",
    "Os países membros do Mercosul tiveram um crescimento maior em seu PIB per capita quando comparados a não membros?"
   ]
  },
  {
   "cell_type": "markdown",
   "metadata": {},
   "source": [
    "## Explicação da hipótese e mecanismo"
   ]
  },
  {
   "cell_type": "markdown",
   "metadata": {},
   "source": [
    "Contexto:\n",
    "O Mercousul é uma organização internacional criada em 1991, para adoção de políticas de integração econômica e aduaneira entre esses países.\n",
    "    \n",
    "Mecanismo:\n",
    "\n",
    "Hipótese 1:\n",
    "Os países membros do Mercosul não tendem a tem um acréscimo em seu IDH pois mesmo que essa organização estimule relações comerciais entre os países, isso nao influencia diretamente o IDH.\n",
    "\n",
    "Hipótese2:\n",
    "Os países membros do mercosul tendem a aumentar sua balança comercial pelo estímulo promovido pela aliançca aduaneira.\n",
    "\n",
    "Hipótese 3:\n",
    "Os países membros do Mercosul tendem a aumentar seu PIB per capita quando comparados a países nao membros do Mercousl da América do Sul, pois as exportações e importações fazem parte do PIB, e o Mercosul estimula o comércio. \n",
    "\n",
    "\n",
    "link artigo mercosul: https://www.guiadacarreira.com.br/educacao/mercosul-relacoes-internacionais/"
   ]
  },
  {
   "cell_type": "markdown",
   "metadata": {},
   "source": [
    "## Bases de dados usadas"
   ]
  },
  {
   "cell_type": "markdown",
   "metadata": {},
   "source": [
    "https://docs.google.com/spreadsheets/d/178j02780CUiRqZOmc6Eybg9YwEH4LRddQ68afSZo4ak/pub\n",
    "https://docs.google.com/spreadsheets/d/1WIrCmPzIg5UAQl3WxPITYWX8xpMO_fBJ3wWbfC8KOVo/pub\n",
    "https://docs.google.com/spreadsheets/d/1RctTQmKB0hzbm1E8rGcufYdMshRdhmYdeL29nXqmvsc/pub"
   ]
  },
  {
   "cell_type": "code",
   "execution_count": 255,
   "metadata": {},
   "outputs": [],
   "source": []
  },
  {
   "cell_type": "markdown",
   "metadata": {},
   "source": [
    "## Contexto e Objetivo"
   ]
  },
  {
   "cell_type": "markdown",
   "metadata": {},
   "source": [
    "O Mercosul foi criado com o intuito de integrar as nações da América do sul em um só bloco, para desenvolver essas nações economicamente. Como o Mercosul é uma união aduaneira, seu principal objetivo é diretamente relacionado ao comécio e ao mercado. Essa união foi formada em 1991 por Brasil, Argentina, Uruguai e Paraguai (países membros) e houveram adesões de outros países após a formação, só que essas nações que aderiram ao Mercosul posteriormente ganharam o status de países associados e consequentemente nenhuma dessas nações aderiu a TEC (tarifa externa comum). O Mercosul tambem visa combater a desigualdade social nos países membros, por isso o bloco criou projetos destinados a combater a fome e a miséria, e a universalização da saúde e educação. A união também promove melhorias relacionadas a infraestrutura (como confecção de rodovias, saneamento básico, etc).\n",
    "\n",
    "O objetivo principal dessa análise é comparar o crescimento dos países membros do mercosul (4) com os países associados (com a exceção da Venezuela que não faz mais parte do Mercosul desde 2016, mas a análise é feita antes desse acontecimento)."
   ]
  },
  {
   "cell_type": "markdown",
   "metadata": {},
   "source": [
    "## Análise de Dados"
   ]
  },
  {
   "cell_type": "code",
   "execution_count": 256,
   "metadata": {},
   "outputs": [],
   "source": [
    "%matplotlib inline\n",
    "import pandas as pd\n",
    "import matplotlib.pyplot as plt\n",
    "import os\n",
    "from numpy import arange\n",
    "from numpy import percentile\n",
    "import numpy as np\n",
    "from matplotlib.font_manager import FontProperties\n",
    "\n",
    "IDH = pd.read_excel('Indicator_HDI.xlsx')\n",
    "TB = pd.read_excel('Trade balance USD.xlsx')\n",
    "GDP = pd.read_excel('GDPpercapitaconstant2000US.xlsx')"
   ]
  },
  {
   "cell_type": "code",
   "execution_count": 185,
   "metadata": {},
   "outputs": [],
   "source": [
    "##### Definindo os paises como sendo do mercosul ou nao \n",
    "mercosul = [10,29,175,241]\n",
    "mercosul1 = [7,26,150,203]\n",
    "tudoIDH = [10,26,29,43,94,175,241,246]\n",
    "tudoTB = [7,23,26,39,80,150,203,206]\n",
    "tudoGDP = [10,26,29,43,94,175,241,246]\n",
    "nao_mercosul = [26,43,94,246]\n",
    "nao_mercosul1 = [23,39,80,206]\n",
    "americacentral = [22,52,66,90,95,97,109,173]\n",
    "# colunasIDH =['1980','2005']\n",
    "# colunasMT = ['1980','2000']"
   ]
  },
  {
   "cell_type": "markdown",
   "metadata": {},
   "source": [
    "Para essa análise, vamos utilizar somente os países membros do Mercosul (em contrapartida com a utilização dos países associados) pois somente os países membros aderiram a tarifa externa comum (TEC). Vamos comparar o ano de 1980 (antes da organização ser criada) com o ano de 2005, onde já se espera que os resultados da organização internacional tenham se consolidado. "
   ]
  },
  {
   "cell_type": "code",
   "execution_count": 186,
   "metadata": {},
   "outputs": [],
   "source": [
    "#definindo os paises e anos quais eu vou utilizar\n",
    "IDH_M = IDH.loc[mercosul,[\"HDI\",1980,2005]]\n",
    "TB_M = TB.loc[mercosul1,[\"1980\",\"2005\"]]\n",
    "\n",
    "#separando todos os paises que vou trabalhar\n",
    "IDH_T = IDH.loc[tudoIDH,[1980,2005]]\n",
    "TB_T = TB.loc[tudoTB,[\"1980\",\"2005\"]]\n",
    "\n",
    "#america central\n",
    "acIDH = IDH.loc[americacentral,[1980, 2005]]\n",
    "\n",
    "#Selecionando os paises que nao sao da mercosul para levar em comparacao\n",
    "IDH_R = IDH.loc[nao_mercosul,[\"HDI\",1980,2005]]\n",
    "\n",
    "TB_R = TB.loc[nao_mercosul1,[\"1980\",\"2005\"]]\n",
    "\n",
    "GDP_M = GDP.loc[mercosul,[\"1980\",\"2005\"]]\n",
    "GDP_R = GDP.loc[nao_mercosul, [\"1980\",\"2005\"]]\n",
    "GDP_T = GDP.loc[tudoGDP,[\"1980\", \"2005\"]]\n"
   ]
  },
  {
   "cell_type": "code",
   "execution_count": 187,
   "metadata": {
    "scrolled": true
   },
   "outputs": [
    {
     "data": {
      "text/html": [
       "<div>\n",
       "<style scoped>\n",
       "    .dataframe tbody tr th:only-of-type {\n",
       "        vertical-align: middle;\n",
       "    }\n",
       "\n",
       "    .dataframe tbody tr th {\n",
       "        vertical-align: top;\n",
       "    }\n",
       "\n",
       "    .dataframe thead th {\n",
       "        text-align: right;\n",
       "    }\n",
       "</style>\n",
       "<table border=\"1\" class=\"dataframe\">\n",
       "  <thead>\n",
       "    <tr style=\"text-align: right;\">\n",
       "      <th></th>\n",
       "      <th>1980</th>\n",
       "      <th>2005</th>\n",
       "      <th>Mercosul</th>\n",
       "      <th>1980</th>\n",
       "      <th>2005</th>\n",
       "      <th>1980_PIB</th>\n",
       "      <th>2005_PIB</th>\n",
       "    </tr>\n",
       "  </thead>\n",
       "  <tbody>\n",
       "    <tr>\n",
       "      <th>7</th>\n",
       "      <td>NaN</td>\n",
       "      <td>NaN</td>\n",
       "      <td>NaN</td>\n",
       "      <td>-1.094189e+09</td>\n",
       "      <td>1.077033e+10</td>\n",
       "      <td>NaN</td>\n",
       "      <td>NaN</td>\n",
       "    </tr>\n",
       "    <tr>\n",
       "      <th>10</th>\n",
       "      <td>0.669</td>\n",
       "      <td>0.765</td>\n",
       "      <td>sim</td>\n",
       "      <td>NaN</td>\n",
       "      <td>NaN</td>\n",
       "      <td>7540.685263</td>\n",
       "      <td>8107.975365</td>\n",
       "    </tr>\n",
       "    <tr>\n",
       "      <th>23</th>\n",
       "      <td>NaN</td>\n",
       "      <td>NaN</td>\n",
       "      <td>NaN</td>\n",
       "      <td>1.017320e+08</td>\n",
       "      <td>3.298621e+08</td>\n",
       "      <td>NaN</td>\n",
       "      <td>NaN</td>\n",
       "    </tr>\n",
       "    <tr>\n",
       "      <th>26</th>\n",
       "      <td>0.507</td>\n",
       "      <td>0.649</td>\n",
       "      <td>nao</td>\n",
       "      <td>-5.295341e+09</td>\n",
       "      <td>3.183237e+10</td>\n",
       "      <td>1071.001324</td>\n",
       "      <td>1069.018333</td>\n",
       "    </tr>\n",
       "    <tr>\n",
       "      <th>29</th>\n",
       "      <td>0.549</td>\n",
       "      <td>0.692</td>\n",
       "      <td>sim</td>\n",
       "      <td>NaN</td>\n",
       "      <td>NaN</td>\n",
       "      <td>3536.045870</td>\n",
       "      <td>3976.619168</td>\n",
       "    </tr>\n",
       "    <tr>\n",
       "      <th>39</th>\n",
       "      <td>NaN</td>\n",
       "      <td>NaN</td>\n",
       "      <td>NaN</td>\n",
       "      <td>-1.146462e+09</td>\n",
       "      <td>1.006821e+10</td>\n",
       "      <td>NaN</td>\n",
       "      <td>NaN</td>\n",
       "    </tr>\n",
       "    <tr>\n",
       "      <th>43</th>\n",
       "      <td>0.630</td>\n",
       "      <td>0.779</td>\n",
       "      <td>nao</td>\n",
       "      <td>NaN</td>\n",
       "      <td>NaN</td>\n",
       "      <td>2500.267727</td>\n",
       "      <td>5979.068028</td>\n",
       "    </tr>\n",
       "    <tr>\n",
       "      <th>80</th>\n",
       "      <td>NaN</td>\n",
       "      <td>NaN</td>\n",
       "      <td>NaN</td>\n",
       "      <td>-7.452001e+07</td>\n",
       "      <td>-2.852738e+08</td>\n",
       "      <td>NaN</td>\n",
       "      <td>NaN</td>\n",
       "    </tr>\n",
       "    <tr>\n",
       "      <th>94</th>\n",
       "      <td>0.501</td>\n",
       "      <td>0.606</td>\n",
       "      <td>nao</td>\n",
       "      <td>NaN</td>\n",
       "      <td>NaN</td>\n",
       "      <td>802.916383</td>\n",
       "      <td>989.280471</td>\n",
       "    </tr>\n",
       "    <tr>\n",
       "      <th>150</th>\n",
       "      <td>NaN</td>\n",
       "      <td>NaN</td>\n",
       "      <td>NaN</td>\n",
       "      <td>-6.132778e+08</td>\n",
       "      <td>-3.299694e+08</td>\n",
       "      <td>NaN</td>\n",
       "      <td>NaN</td>\n",
       "    </tr>\n",
       "    <tr>\n",
       "      <th>175</th>\n",
       "      <td>0.544</td>\n",
       "      <td>0.635</td>\n",
       "      <td>sim</td>\n",
       "      <td>NaN</td>\n",
       "      <td>NaN</td>\n",
       "      <td>1411.486717</td>\n",
       "      <td>1331.107082</td>\n",
       "    </tr>\n",
       "    <tr>\n",
       "      <th>203</th>\n",
       "      <td>NaN</td>\n",
       "      <td>NaN</td>\n",
       "      <td>NaN</td>\n",
       "      <td>-5.689722e+08</td>\n",
       "      <td>3.351631e+08</td>\n",
       "      <td>NaN</td>\n",
       "      <td>NaN</td>\n",
       "    </tr>\n",
       "    <tr>\n",
       "      <th>206</th>\n",
       "      <td>NaN</td>\n",
       "      <td>NaN</td>\n",
       "      <td>NaN</td>\n",
       "      <td>4.666546e+09</td>\n",
       "      <td>2.792400e+10</td>\n",
       "      <td>NaN</td>\n",
       "      <td>NaN</td>\n",
       "    </tr>\n",
       "    <tr>\n",
       "      <th>241</th>\n",
       "      <td>0.658</td>\n",
       "      <td>0.748</td>\n",
       "      <td>sim</td>\n",
       "      <td>NaN</td>\n",
       "      <td>NaN</td>\n",
       "      <td>5618.848079</td>\n",
       "      <td>6967.471275</td>\n",
       "    </tr>\n",
       "    <tr>\n",
       "      <th>246</th>\n",
       "      <td>0.623</td>\n",
       "      <td>0.692</td>\n",
       "      <td>nao</td>\n",
       "      <td>NaN</td>\n",
       "      <td>NaN</td>\n",
       "      <td>5841.280640</td>\n",
       "      <td>5000.076202</td>\n",
       "    </tr>\n",
       "  </tbody>\n",
       "</table>\n",
       "</div>"
      ],
      "text/plain": [
       "      1980   2005 Mercosul         1980          2005      1980_PIB  \\\n",
       "7      NaN    NaN      NaN -1.094189e+09  1.077033e+10          NaN   \n",
       "10   0.669  0.765      sim           NaN           NaN  7540.685263   \n",
       "23     NaN    NaN      NaN  1.017320e+08  3.298621e+08          NaN   \n",
       "26   0.507  0.649      nao -5.295341e+09  3.183237e+10  1071.001324   \n",
       "29   0.549  0.692      sim           NaN           NaN  3536.045870   \n",
       "39     NaN    NaN      NaN -1.146462e+09  1.006821e+10          NaN   \n",
       "43   0.630  0.779      nao           NaN           NaN  2500.267727   \n",
       "80     NaN    NaN      NaN -7.452001e+07 -2.852738e+08          NaN   \n",
       "94   0.501  0.606      nao           NaN           NaN   802.916383   \n",
       "150    NaN    NaN      NaN -6.132778e+08 -3.299694e+08          NaN   \n",
       "175  0.544  0.635      sim           NaN           NaN  1411.486717   \n",
       "203    NaN    NaN      NaN -5.689722e+08  3.351631e+08          NaN   \n",
       "206    NaN    NaN      NaN  4.666546e+09  2.792400e+10          NaN   \n",
       "241  0.658  0.748      sim           NaN           NaN  5618.848079   \n",
       "246  0.623  0.692      nao           NaN           NaN  5841.280640   \n",
       "\n",
       "        2005_PIB  \n",
       "7            NaN  \n",
       "10   8107.975365  \n",
       "23           NaN  \n",
       "26   1069.018333  \n",
       "29   3976.619168  \n",
       "39           NaN  \n",
       "43   5979.068028  \n",
       "80           NaN  \n",
       "94    989.280471  \n",
       "150          NaN  \n",
       "175  1331.107082  \n",
       "203          NaN  \n",
       "206          NaN  \n",
       "241  6967.471275  \n",
       "246  5000.076202  "
      ]
     },
     "execution_count": 187,
     "metadata": {},
     "output_type": "execute_result"
    }
   ],
   "source": [
    "IDH_T['Mercosul']= 'nao'\n",
    "IDH_T.loc[[10,29,175,241],'Mercosul']='sim'\n",
    "\n",
    "df = IDH_T.join(TB_T, how = 'outer', rsuffix = '_BC', lsuffix = '_IDH')\n",
    "df = df.join(GDP_T, how = 'outer', rsuffix = '_PIB', lsuffix = ' ')\n",
    "df"
   ]
  },
  {
   "cell_type": "code",
   "execution_count": null,
   "metadata": {},
   "outputs": [],
   "source": [
    "#Comecando a analise do primeiro indicador (IDH)"
   ]
  },
  {
   "cell_type": "code",
   "execution_count": 188,
   "metadata": {},
   "outputs": [
    {
     "name": "stdout",
     "output_type": "stream",
     "text": [
      "A mediana do IDH dos países não membros do Mercosul em 1980 é:  0.565\n",
      "A media do IDH dos países não membros do Mercosul em 1980 é:  0.56525\n",
      " \n",
      "A mediana do IDH dos países não membros do Mercosul em 2005 é:  0.6705\n",
      "A media do IDH dos países não membros do Mercosul em 2005 é:  0.6815\n"
     ]
    }
   ],
   "source": [
    "medianaIDH1980r = IDH_R[1980].median()\n",
    "mediaIDH1980r = IDH_R[1980].mean()\n",
    "mediaIDH2005r = IDH_R[2005].mean()\n",
    "medianaIDH2005r = IDH_R[2005].median()\n",
    "\n",
    "print('A mediana do IDH dos países não membros do Mercosul em 1980 é: ',medianaIDH1980r)\n",
    "print('A media do IDH dos países não membros do Mercosul em 1980 é: ', mediaIDH1980r)\n",
    "print(' ')\n",
    "print('A mediana do IDH dos países não membros do Mercosul em 2005 é: ',medianaIDH2005r)\n",
    "print('A media do IDH dos países não membros do Mercosul em 2005 é: ',mediaIDH2005r)\n"
   ]
  },
  {
   "cell_type": "markdown",
   "metadata": {},
   "source": [
    "Como pode-se observar, a mediana do IDH dos países não membros em 1980 e em 2005 é próxima à média nos respectivos anos. Sabendo disso, a média é uma boa maneira de resumir os dados do IDH dos paises não membros nos 2 anos.\n",
    "\n"
   ]
  },
  {
   "cell_type": "code",
   "execution_count": 189,
   "metadata": {},
   "outputs": [
    {
     "name": "stdout",
     "output_type": "stream",
     "text": [
      "A mediana do IDH dos países membros do Mercosul em 1980 é:  0.605\n",
      "A média do IDH dos países membros do Mercosul em 1980 é:  0.6035\n",
      " \n",
      "A mediana do IDH dos países membros do Mercosul em 2005 é:  0.72\n",
      "A media do IDH dos países membros do Mercosul em 2005 é:  0.71\n"
     ]
    }
   ],
   "source": [
    "medianaIDH1980m = IDH_M[1980].mean()\n",
    "mediaIDH1980m = IDH_M[1980].median()\n",
    "mediaIDH2005m = IDH_M[2005].mean()\n",
    "medianaIDH2005m = IDH_M[2005].median()\n",
    "\n",
    "\n",
    "print('A mediana do IDH dos países membros do Mercosul em 1980 é: ',medianaIDH1980m)\n",
    "print('A média do IDH dos países membros do Mercosul em 1980 é: ', mediaIDH1980m)\n",
    "print(' ')\n",
    "print('A mediana do IDH dos países membros do Mercosul em 2005 é: ',medianaIDH2005m)\n",
    "print('A media do IDH dos países membros do Mercosul em 2005 é: ',mediaIDH2005m)"
   ]
  },
  {
   "cell_type": "markdown",
   "metadata": {},
   "source": [
    "Como pode-se observar, a mediana do IDH dos países membros em 1980 e em 2005 é muito próxima à média. Sabendo disso, a média é uma boa maneira de resumir os dados do IDH dos países membros nos 2 anos.\n",
    "\n"
   ]
  },
  {
   "cell_type": "code",
   "execution_count": 279,
   "metadata": {},
   "outputs": [
    {
     "data": {
      "image/png": "[encoded data removed]",
      "text/plain": [
       "<Figure size 432x288 with 1 Axes>"
      ]
     },
     "metadata": {
      "needs_background": "light"
     },
     "output_type": "display_data"
    },
    {
     "name": "stdout",
     "output_type": "stream",
     "text": [
      "10:Argentina; 26:Bolívia; 29:Brasil; 43:Chile ; 94:Guiana; 175:Paraguai 241:Uruguai; 246:Venezuela\n"
     ]
    },
    {
     "data": {
      "image/png": "[encoded data removed]",
      "text/plain": [
       "<Figure size 432x288 with 1 Axes>"
      ]
     },
     "metadata": {
      "needs_background": "light"
     },
     "output_type": "display_data"
    },
    {
     "name": "stdout",
     "output_type": "stream",
     "text": [
      "A média do IDH dos países não membros do Mercosul em 1980 era:  0.56525\n",
      "A média do IDH dos países não membros do Mercosul em 2005 evoluiu  para:  0.6815\n",
      "O crescimento médio do IDH dos países não membros do Mercosul  de 1980 a 2005 foi de:  20.566121185316224 %\n",
      " \n",
      "A média do IDH dos países membros do Mercosul em 1980 era:  0.56525\n",
      "A média do IDH dos países membros do Mercosul em 2005 evoluiu  para:  0.6815\n",
      "O crescimento médio do IDH dos países membros do Mercosul  de 1980 a 2005 foi de:  17.6470588235294 %\n"
     ]
    }
   ],
   "source": [
    "anos = [1980,2005]\n",
    "dados1 = [mediaIDH1980r,mediaIDH2005r]\n",
    "dados2 = [mediaIDH1980m, mediaIDH2005m]\n",
    "\n",
    "IDH_T.plot(kind=\"bar\")\n",
    "plt.xlabel('Países')\n",
    "plt.ylabel('IDH')\n",
    "plt.title('Evolução IDH')\n",
    "plt.legend()\n",
    "plt.show()\n",
    "\n",
    "print('10:Argentina; 26:Bolívia; 29:Brasil; 43:Chile ; 94:Guiana; 175:Paraguai 241:Uruguai; 246:Venezuela')\n",
    "\n",
    "\n",
    "plt.plot(anos, dados1, label = \"Não membros Mercosul\")\n",
    "plt.plot(anos,dados2, label = \"Membros Mercosul\")\n",
    "plt.xlabel('Tempo (anos)')\n",
    "plt.ylabel('IDH médio')\n",
    "plt.title('IDH Médio x Tempo', fontsize = 15)\n",
    "plt.grid(True)\n",
    "plt.legend()\n",
    "plt.show()\n",
    "\n",
    "print('A média do IDH dos países não membros do Mercosul em 1980 era: ', mediaIDH1980r)\n",
    "print('A média do IDH dos países não membros do Mercosul em 2005 evoluiu  para: ', mediaIDH2005r)\n",
    "print('O crescimento médio do IDH dos países não membros do Mercosul  de 1980 a 2005 foi de: ', ((mediaIDH2005r-mediaIDH1980r)/mediaIDH1980r)*100, \"%\")\n",
    "print(' ')\n",
    "print('A média do IDH dos países membros do Mercosul em 1980 era: ', mediaIDH1980r)\n",
    "print('A média do IDH dos países membros do Mercosul em 2005 evoluiu  para: ', mediaIDH2005r)\n",
    "print('O crescimento médio do IDH dos países membros do Mercosul  de 1980 a 2005 foi de: ', ((mediaIDH2005m-mediaIDH1980m)/mediaIDH1980m)*100, \"%\")\n"
   ]
  },
  {
   "cell_type": "markdown",
   "metadata": {},
   "source": [
    "Como todos os países analisados acima fazem parte do Mercosul (alguns membros e outros associados), e a diferença entre um país membro e um país associado é a adesão a uma tarifa externa comum, não faz sentido comparar o crescimento do IDH entre países associados e países membros, pois os projetos que influenciam diretamente o IDH (como projetos de melhoria de infraestrutura, educação e saneamento básico) são aderidos por todas as nações que fazem parte do bloco. \n",
    "Sabendo disso, vou selecionar 8 países da américa central e comparar com os 8 países (membros e associados ao Mercosul) para obter uma anáise macroeconômica a respeito desse indicador. "
   ]
  },
  {
   "cell_type": "code",
   "execution_count": 191,
   "metadata": {},
   "outputs": [
    {
     "name": "stdout",
     "output_type": "stream",
     "text": [
      "A mediana do IDH dos países do Mercosul em 1980 é:  0.5860000000000001\n",
      "A média do IDH dos países do Mercosul em 1980 é:  0.585125\n",
      " \n",
      "A mediana do IDH dos países do Mercosul em 2005 é:  0.692\n",
      "A media do IDH dos países do Mercosul em 2005 é:  0.69575\n"
     ]
    }
   ],
   "source": [
    "mediaMT1980 = IDH_T[1980].mean()\n",
    "medianaMT1980 = IDH_T[1980].median()\n",
    "\n",
    "mediaMT2005 = IDH_T[2005].mean()\n",
    "medianaMT2005 = IDH_T[2005].median()\n",
    "\n",
    "print('A mediana do IDH dos países do Mercosul em 1980 é: ',medianaMT1980)\n",
    "print('A média do IDH dos países do Mercosul em 1980 é: ', mediaMT1980)\n",
    "print(' ')\n",
    "print('A mediana do IDH dos países do Mercosul em 2005 é: ',medianaMT2005)\n",
    "print('A media do IDH dos países do Mercosul em 2005 é: ',mediaMT2005)"
   ]
  },
  {
   "cell_type": "markdown",
   "metadata": {},
   "source": [
    "A partir desses dados pode-se observar que a média  do IDH dos países do Mercosul é muito próxima a mediana, portanto a média é um bom parâmetro para resumir os dados."
   ]
  },
  {
   "cell_type": "code",
   "execution_count": 192,
   "metadata": {},
   "outputs": [
    {
     "name": "stdout",
     "output_type": "stream",
     "text": [
      "A mediana do IDH dos países da América Central em 1980 é:  0.5365\n",
      "A média do IDH dos países da América Central em 1980 é:  0.5181250000000001\n",
      " \n",
      "A mediana do IDH dos países da América Central em 2005 é:  0.63525\n",
      "A media do IDH dos países da América Central em 2005 é:  0.63525\n"
     ]
    }
   ],
   "source": [
    "#Ver a media e mediana dos paises da america central\n",
    "mediaam1980 = acIDH[1980].mean()\n",
    "medianaam1980 = acIDH[1980].median()\n",
    "\n",
    "mediaam2005 = acIDH[2005].mean()\n",
    "medianaam2005 = acIDH[2005].mean()\n",
    "\n",
    "print('A mediana do IDH dos países da América Central em 1980 é: ',medianaam1980)\n",
    "print('A média do IDH dos países da América Central em 1980 é: ', mediaam1980)\n",
    "print(' ')\n",
    "print('A mediana do IDH dos países da América Central em 2005 é: ',medianaam2005)\n",
    "print('A media do IDH dos países da América Central em 2005 é: ',mediaam2005)"
   ]
  },
  {
   "cell_type": "markdown",
   "metadata": {},
   "source": [
    "A partir desses dados pode-se observar que a média  do IDH dos países da América Central é muito próxima a mediana, portanto a média é um bom parâmetro para resumir os dados."
   ]
  },
  {
   "cell_type": "code",
   "execution_count": 253,
   "metadata": {},
   "outputs": [
    {
     "data": {
      "image/png": "[encoded data removed]",
      "text/plain": [
       "<Figure size 432x288 with 1 Axes>"
      ]
     },
     "metadata": {
      "needs_background": "light"
     },
     "output_type": "display_data"
    },
    {
     "name": "stdout",
     "output_type": "stream",
     "text": [
      "A média do IDH dos países do Mercosul em 1980 era:  0.585125\n",
      "A média do IDH dos países do Mercosul em 2005 evoluiu  para:  0.69575\n",
      "O crescimento médio do IDH dos países do Mercosul de 1980 a 2005 foi de:  15.900107797341 %\n",
      " \n",
      "A média do IDH dos países da América Central em 1980 era:  0.5181250000000001\n",
      "A média do IDH dos países da América Central em 2005 evoluiu  para:  0.63525\n",
      "O crescimento médio do IDH dos países da América Central de 1980 a 2005 foi de:  18.437622983077517 %\n"
     ]
    }
   ],
   "source": [
    "#grafico paises america central vs paises mercosul\n",
    "dadosam = [mediaam1980,mediaam2005]\n",
    "dadosMT = [mediaMT1980, mediaMT2005]\n",
    "\n",
    "plt.plot(anos, dadosam, label = \"Países América Central\")\n",
    "plt.plot(anos,dadosMT, label = \"Mercosul\")\n",
    "plt.xlabel('Tempo (anos)')\n",
    "plt.ylabel('IDH médio')\n",
    "plt.title('IDH Médio x Tempo', fontsize = 15)\n",
    "plt.grid(True)\n",
    "plt.legend()\n",
    "plt.show()\n",
    "\n",
    "print('A média do IDH dos países do Mercosul em 1980 era: ', mediaMT1980)\n",
    "print('A média do IDH dos países do Mercosul em 2005 evoluiu  para: ', mediaMT2005)\n",
    "print('O crescimento médio do IDH dos países do Mercosul de 1980 a 2005 foi de: ', ((mediaMT2005-mediaMT1980)/mediaMT1980)*100, \"%\")\n",
    "print(' ')\n",
    "print('A média do IDH dos países da América Central em 1980 era: ', mediaam1980)\n",
    "print('A média do IDH dos países da América Central em 2005 evoluiu  para: ', mediaam2005)\n",
    "print('O crescimento médio do IDH dos países da América Central de 1980 a 2005 foi de: ', ((mediaam2005-mediam1980)/mediaam1980)*100, \"%\")\n"
   ]
  },
  {
   "cell_type": "markdown",
   "metadata": {},
   "source": [
    "Analisando o crescimento relacionado ao IDH, o Mercosul nao obteve sucesso em seus projetos sociais que tinham como objetivo melhorar a condição de vida dos habitantes, ou os países da América Central investiram uma quantia maior de capital em projetos sociais destinados a melhoria das condições de vida. Isso pode ser concluido com base no resultado do aumento médio do IDH dos países da América Central, que foi maior em porcentagem do que o aumnento médio no IDH das nações que fazem parte do Mercosul. Esse dado nos demonstra que o grupo de países pertencentes a união (que tem como um de seus objetivos a melhoria do IDH) não superou o crescimento médio em porcentagem do IDH de países que não pertencem a uma união. "
   ]
  },
  {
   "cell_type": "code",
   "execution_count": null,
   "metadata": {},
   "outputs": [],
   "source": [
    "# Analisando a balança comercial"
   ]
  },
  {
   "cell_type": "code",
   "execution_count": 194,
   "metadata": {},
   "outputs": [
    {
     "name": "stdout",
     "output_type": "stream",
     "text": [
      "A mediana da balança comercial dos países membros do Mercosul em 1980 é:  -1892944958.3608737\n",
      "A média da balança comercial dos países membros do Mercosul em 1980 é:  -853733175.710253\n",
      " \n",
      "A mediana da balança comercial dos países membros do Mercosul em 2005 é:  5552746388.763463\n",
      "A media da balança comercial dos países membros do Mercosul em 2005 é:  10651974515.122053\n"
     ]
    }
   ],
   "source": [
    "medianaTB1980m = TB_M['1980'].mean()\n",
    "mediaTB1980m = TB_M['1980'].median()\n",
    "mediaTB2005m = TB_M['2005'].mean()\n",
    "medianaTB2005m = TB_M['2005'].median()\n",
    "\n",
    "\n",
    "print('A mediana da balança comercial dos países membros do Mercosul em 1980 é: ',medianaTB1980m)\n",
    "print('A média da balança comercial dos países membros do Mercosul em 1980 é: ', mediaTB1980m)\n",
    "print(' ')\n",
    "print('A mediana da balança comercial dos países membros do Mercosul em 2005 é: ',medianaTB2005m)\n",
    "print('A media da balança comercial dos países membros do Mercosul em 2005 é: ',mediaTB2005m)\n"
   ]
  },
  {
   "cell_type": "code",
   "execution_count": 195,
   "metadata": {},
   "outputs": [
    {
     "name": "stdout",
     "output_type": "stream",
     "text": [
      "A mediana da balança comercial dos países não membros do Mercosul em 1980 é:  886824000.1644285\n",
      "A média da balança comercial dos países não membros do Mercosul em 1980 é:  13605979.850367002\n",
      " \n",
      "A mediana da balança comercial dos países não membros do Mercosul em 2005 é:  5199038298.5506315\n",
      "A media da balança comercial dos países não membros do Mercosul em 2005 é:  9509201531.061295\n"
     ]
    }
   ],
   "source": [
    "medianaTB1980r = TB_R['1980'].mean()\n",
    "mediaTB1980r = TB_R['1980'].median()\n",
    "mediaTB2005r = TB_R['2005'].mean()\n",
    "medianaTB2005r = TB_R['2005'].median()\n",
    "\n",
    "print('A mediana da balança comercial dos países não membros do Mercosul em 1980 é: ',medianaTB1980r)\n",
    "print('A média da balança comercial dos países não membros do Mercosul em 1980 é: ', mediaTB1980r)\n",
    "print(' ')\n",
    "print('A mediana da balança comercial dos países não membros do Mercosul em 2005 é: ',medianaTB2005r)\n",
    "print('A media da balança comercial dos países não membros do Mercosul em 2005 é: ',mediaTB2005r)\n"
   ]
  },
  {
   "cell_type": "markdown",
   "metadata": {},
   "source": [
    "Como pode-se observar, a média neste caso não é uma boa maneira de resumir os dados referentes a balança comercial dos países da América do Sul. Com isso, o parâmetro escolhido para resumir os dados foi a mediana.  \n"
   ]
  },
  {
   "cell_type": "code",
   "execution_count": 282,
   "metadata": {},
   "outputs": [
    {
     "data": {
      "image/png": "[encoded data removed]",
      "text/plain": [
       "<Figure size 432x288 with 1 Axes>"
      ]
     },
     "metadata": {
      "needs_background": "light"
     },
     "output_type": "display_data"
    },
    {
     "name": "stdout",
     "output_type": "stream",
     "text": [
      "7:Argentina; 23:Bolívia; 26:Brasil; 39:Chile ; 80:Guiana; 150:Paraguai 203:Uruguai; 206:Venezuela\n"
     ]
    },
    {
     "data": {
      "image/png": "[encoded data removed]",
      "text/plain": [
       "<Figure size 432x288 with 1 Axes>"
      ]
     },
     "metadata": {
      "needs_background": "light"
     },
     "output_type": "display_data"
    },
    {
     "name": "stdout",
     "output_type": "stream",
     "text": [
      "A mediana da balança comercial dos países não membros do Mercosul em 1980 era:  886824000.1644285\n",
      "A mediana da balança comercial dos países não membros do Mercosul em 2005 evoluiu  para:  5199038298.5506315\n",
      " \n",
      "A mediana da balança comercial dos países membros do Mercosul em 1980 era:  -1892944958.3608737\n",
      "A mediana da balança comercial dos países membros do Mercosul em 2005 evoluiu  para:  5552746388.763463\n"
     ]
    }
   ],
   "source": [
    "dadostbm = [medianaTB1980m,medianaTB2005m]\n",
    "dadostbr = [medianaTB1980r,medianaTB2005r]\n",
    "\n",
    "TB_T.plot(kind=\"bar\")\n",
    "plt.xlabel('Países')\n",
    "plt.ylabel('Balança comercial')\n",
    "plt.title('Evolução balança comercial')\n",
    "plt.legend()\n",
    "plt.show()\n",
    "\n",
    "print('7:Argentina; 23:Bolívia; 26:Brasil; 39:Chile ; 80:Guiana; 150:Paraguai 203:Uruguai; 206:Venezuela')\n",
    "\n",
    "\n",
    "plt.plot(anos, dadostbr, label = \"Não membros Mercosul\")\n",
    "plt.plot(anos,dadostbm, label = \"Membros Mercosul\")\n",
    "plt.xlabel('Tempo (anos)')\n",
    "plt.ylabel('Balança Comercial (USD ajustada à inflação)')\n",
    "plt.title('Mediana balança Comercial x Tempo', fontsize = 15)\n",
    "plt.grid(True)\n",
    "plt.legend()\n",
    "plt.show()\n",
    "\n",
    "print('A mediana da balança comercial dos países não membros do Mercosul em 1980 era: ', medianaTB1980r)\n",
    "print('A mediana da balança comercial dos países não membros do Mercosul em 2005 evoluiu  para: ', medianaTB2005r)\n",
    "print(\" \")\n",
    "print('A mediana da balança comercial dos países membros do Mercosul em 1980 era: ', medianaTB1980m)\n",
    "print('A mediana da balança comercial dos países membros do Mercosul em 2005 evoluiu  para: ', medianaTB2005m)\n"
   ]
  },
  {
   "cell_type": "markdown",
   "metadata": {},
   "source": [
    "A partir da análise dos dados acima, pode-se concluir que a formação do Mercosul causou um crescimento considerável na balança comercial dos países membros. Esse crescimento pode ser diretamente relacionado com a TEC, que define uma tarifa única para a importação de produtos externos. Isso estimula o comércio entre os países que fazem parte do bloco econômico, pois a TEC do Mercosul é extremamente baixa comparada com a taxa de importação de países que não sao membros da união. Pode-se concluir que o Mercosul teve sucesso em um de seus objetivos principais: desenvolver os membros da união enconomicamente, por meio do estímulo do comércio entre as nações. "
   ]
  },
  {
   "cell_type": "code",
   "execution_count": null,
   "metadata": {},
   "outputs": [],
   "source": [
    "#Analisando o PIB per capita"
   ]
  },
  {
   "cell_type": "code",
   "execution_count": 197,
   "metadata": {},
   "outputs": [
    {
     "name": "stdout",
     "output_type": "stream",
     "text": [
      "A mediana do PIB per capita dos países não membros do Mercosul em 1980 é:  2553.8665183792127\n",
      "A média do PIB per capita dos países não membros do Mercosul em 1980 é:  1785.634525572285\n",
      " \n",
      "A mediana do PIB per capita dos países não membros do Mercosul em 2005 é:  3034.547267416155\n",
      "A media do PIB per capita dos países não membros do Mercosul em 2005 é:  3259.360758417857\n"
     ]
    }
   ],
   "source": [
    "medianaGDP1980r = GDP_R['1980'].mean()\n",
    "mediaGDP1980r = GDP_R['1980'].median()\n",
    "mediaGDP2005r = GDP_R['2005'].mean()\n",
    "medianaGDP2005r = GDP_R['2005'].median()\n",
    "\n",
    "print('A mediana do PIB per capita dos países não membros do Mercosul em 1980 é: ',medianaGDP1980r)\n",
    "print('A média do PIB per capita dos países não membros do Mercosul em 1980 é: ', mediaGDP1980r)\n",
    "print(' ')\n",
    "print('A mediana do PIB per capita dos países não membros do Mercosul em 2005 é: ',medianaGDP2005r)\n",
    "print('A media do PIB per capita dos países não membros do Mercosul em 2005 é: ',mediaGDP2005r)\n"
   ]
  },
  {
   "cell_type": "code",
   "execution_count": 198,
   "metadata": {},
   "outputs": [
    {
     "name": "stdout",
     "output_type": "stream",
     "text": [
      "A mediana do PIB per capita dos países membros do Mercosul em 1980 é:  4526.766482532333\n",
      "A média do PIB per capita dos países membros do Mercosul em 1980 é:  4577.44697485151\n",
      " \n",
      "A mediana do PIB per capita dos países membros do Mercosul em 2005 é:  5472.045221480835\n",
      "A media do PIB per capita dos países membros do Mercosul em 2005 é:  5095.793222412407\n"
     ]
    }
   ],
   "source": [
    "medianaGDP1980m = GDP_M['1980'].mean()\n",
    "mediaGDP1980m = GDP_M['1980'].median()\n",
    "mediaGDP2005m = GDP_M['2005'].mean()\n",
    "medianaGDP2005m = GDP_M['2005'].median()\n",
    "\n",
    "print('A mediana do PIB per capita dos países membros do Mercosul em 1980 é: ',medianaGDP1980m)\n",
    "print('A média do PIB per capita dos países membros do Mercosul em 1980 é: ', mediaGDP1980m)\n",
    "print(' ')\n",
    "print('A mediana do PIB per capita dos países membros do Mercosul em 2005 é: ',medianaGDP2005m)\n",
    "print('A media do PIB per capita dos países membros do Mercosul em 2005 é: ',mediaGDP2005m)\n"
   ]
  },
  {
   "cell_type": "markdown",
   "metadata": {},
   "source": [
    "Como pode-se observar, a média do PIB por capita dos países da América do Sul não é o melhor parâmetro para resumir os dados, com isso, vamos utilizar a mediana para fazer esse papel."
   ]
  },
  {
   "cell_type": "code",
   "execution_count": 283,
   "metadata": {},
   "outputs": [
    {
     "data": {
      "image/png": "[encoded data removed]",
      "text/plain": [
       "<Figure size 432x288 with 1 Axes>"
      ]
     },
     "metadata": {
      "needs_background": "light"
     },
     "output_type": "display_data"
    },
    {
     "name": "stdout",
     "output_type": "stream",
     "text": [
      "10:Argentina; 26:Bolívia; 29:Brasil; 43:Chile ; 94:Guiana; 175:Paraguai 241:Uruguai; 246:Venezuela\n"
     ]
    },
    {
     "data": {
      "image/png": "[encoded data removed]",
      "text/plain": [
       "<Figure size 432x288 with 1 Axes>"
      ]
     },
     "metadata": {
      "needs_background": "light"
     },
     "output_type": "display_data"
    },
    {
     "name": "stdout",
     "output_type": "stream",
     "text": [
      "A mediana do PIB per capita dos países não membros do Mercosul em 1980 era:  2553.8665183792127\n",
      "A mediana do PIB per capita dos países não membros do Mercosul em 2005 evoluiu  para:  3034.547267416155\n",
      "O crescimento da balança comercial dos países não membros do Mercosul  de 1980 a 2005 foi de:  18.821686473340115 %\n",
      " \n",
      "A mediana do PIB per capita dos países membros do Mercosul em 1980 era:  2553.8665183792127\n",
      "A mediana do PIB per capita dos países membros do Mercosul em 2005 evoluiu  para:  3034.547267416155\n",
      "O crescimento do PIB per capita dos países membros do Mercosul  de 1980 a 2005 foi de:  20.88198590751473 %\n"
     ]
    }
   ],
   "source": [
    "dadosgdpr = [medianaGDP1980r, medianaGDP2005r]\n",
    "dadosgdpm = [medianaGDP1980m, medianaGDP2005m]\n",
    "\n",
    "\n",
    "GDP_T.plot(kind=\"bar\")\n",
    "plt.xlabel('Países')\n",
    "plt.ylabel('PIB per capita')\n",
    "plt.title('Evolução PIB países')\n",
    "plt.legend()\n",
    "plt.show()\n",
    "\n",
    "print('10:Argentina; 26:Bolívia; 29:Brasil; 43:Chile ; 94:Guiana; 175:Paraguai 241:Uruguai; 246:Venezuela')\n",
    "\n",
    "\n",
    "plt.plot(anos, dadosgdpr, label = \"Associados Mercosul\")\n",
    "plt.plot(anos,dadosgdpm, label = \"Membros Mercosul\")\n",
    "plt.xlabel('Tempo (anos)')\n",
    "plt.ylabel('PIB per capita')\n",
    "plt.title('Média PIB per capita x Tempo', fontsize = 15)\n",
    "plt.grid(True)\n",
    "plt.legend()\n",
    "plt.show()\n",
    "\n",
    "\n",
    "print('A mediana do PIB per capita dos países não membros do Mercosul em 1980 era: ', medianaGDP1980r)\n",
    "print('A mediana do PIB per capita dos países não membros do Mercosul em 2005 evoluiu  para: ', medianaGDP2005r)\n",
    "print('O crescimento da balança comercial dos países não membros do Mercosul  de 1980 a 2005 foi de: ', (((medianaGDP2005r-medianaGDP1980r)/medianaGDP1980r))*100, \"%\")\n",
    "print(' ')\n",
    "print('A mediana do PIB per capita dos países membros do Mercosul em 1980 era: ', medianaGDP1980r)\n",
    "print('A mediana do PIB per capita dos países membros do Mercosul em 2005 evoluiu  para: ', medianaGDP2005r)\n",
    "print('O crescimento do PIB per capita dos países membros do Mercosul  de 1980 a 2005 foi de: ', (((medianaGDP2005m-medianaGDP1980m)/medianaGDP1980m))*100, \"%\")\n"
   ]
  },
  {
   "cell_type": "markdown",
   "metadata": {},
   "source": [
    "Pode-se notar uma diferença sutil entre a evolução do PIB per capita entre os membros do Mercosul vs não membros (aproximadamente 2% a mais de crescimento aos membros). Pode-se inferir que o maior crecimento percentual do PIB dos países membros ao serem comparados aos países associados é reflexo do aumento significativo na balança comercial dos países membros (pois o comércio compõe uma grande parcela do PIB da maioria das nações)."
   ]
  },
  {
   "cell_type": "markdown",
   "metadata": {},
   "source": [
    "## Conclusão"
   ]
  },
  {
   "cell_type": "markdown",
   "metadata": {},
   "source": [
    "Após a análise entre países membros do Mercosul vs países associados (comparando seus PIBs per capita e suas balanças comerciais), pode-se concluir que a união aduaneira obteve sucesso em seu objetivo principal, que é estimular o comércio entre os países membros por meio da diminuição de impostos sobre a importação/exportação de produtos. Tal estímulo teve um resultado significativo na balança comercial dos países membros, com isso pode-se notar que esse resultado influenciou diretamente o crescimento do PIB per capita das nações, já que o comércio compõe uma grande parcela do PIB dos países da América do Sul. \n",
    "Em relação a análise do IDH, como os projetos sociais do Mercosul abrangem não somente os países membros mas também os países associados, foram coletados dados de países da América Central (já que todos os países da América do Sul fazem parte do Mercosul com uma exceção) para serem comparados aos países membros e associados ao Mercosul. A partir dos dados obtidos nessa análise, podemos retirar duas possíveis teorias: os projetos sociais promovidos pelo Mercosul não foram bem sucedidos; ou os países da América Central investiram uma maior porcentagem de seu capital em reformas sociais que promovem a melhoria de vida. \n",
    "A respeito do Mercosul como organização, pode-se concluir que países que aderem a esta união (como membros) estão sujeitos a um aumento significativo de sua balança comercial, seguido por um aumento modesto em seu PIB; mas não estão sujeitos a um crescimento acima da média no que se refere a questões sociais (como IDH). "
   ]
  },
  {
   "cell_type": "code",
   "execution_count": null,
   "metadata": {},
   "outputs": [],
   "source": []
  }
 ],
 "metadata": {
  "kernelspec": {
   "display_name": "Python 3",
   "language": "python",
   "name": "python3"
  },
  "language_info": {
   "codemirror_mode": {
    "name": "ipython",
    "version": 3
   },
   "file_extension": ".py",
   "mimetype": "text/x-python",
   "name": "python",
   "nbconvert_exporter": "python",
   "pygments_lexer": "ipython3",
   "version": "3.7.1"
  }
 },
 "nbformat": 4,
 "nbformat_minor": 2
}
